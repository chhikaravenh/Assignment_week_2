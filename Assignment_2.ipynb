{
 "cells": [
  {
   "cell_type": "code",
   "execution_count": null,
   "id": "5ee9e6c1-31e7-42e2-8c8d-d6c979004df5",
   "metadata": {},
   "outputs": [],
   "source": [
    "# 1)i can comment code using #single line comment , '''multi line comment'''"
   ]
  },
  {
   "cell_type": "code",
   "execution_count": 1,
   "id": "5d42ad63-4abb-4756-9510-ab949e00507b",
   "metadata": {},
   "outputs": [
    {
     "data": {
      "text/plain": [
       "'fdzvsf\\nvffddf'"
      ]
     },
     "execution_count": 1,
     "metadata": {},
     "output_type": "execute_result"
    }
   ],
   "source": [
    "# 1)\n",
    "#jcwsjkjcsmd\n",
    "# vsdfvdf\n",
    "'''fdzvsf\n",
    "vffddf'''"
   ]
  },
  {
   "cell_type": "code",
   "execution_count": null,
   "id": "abb013c1-dec4-4f84-8cee-8a777da7188b",
   "metadata": {},
   "outputs": [],
   "source": [
    "# 2)variables in python are integer , float, string, boolean , list , dictionary, sets, tuple."
   ]
  },
  {
   "cell_type": "code",
   "execution_count": 8,
   "id": "4d7eedd3-502c-49b7-8d6c-b751936e9e59",
   "metadata": {},
   "outputs": [],
   "source": [
    "# 2)\n",
    "#for integer\n",
    "a=3\n",
    "#for float\n",
    "b= 423.34\n",
    "#for string\n",
    "a=\"hello\"\n",
    "#for boolean\n",
    "True , False\n",
    "#for list\n",
    "L= [2,4,3,\"abc\"]\n",
    "#for dictionary\n",
    "dict={\"name\":\"arya\" , \"age\":\"18\"}\n",
    "#for tuple\n",
    "t=(2,4,2,\"abc\")"
   ]
  },
  {
   "cell_type": "code",
   "execution_count": null,
   "id": "59bc1891-3cdf-49a6-ba16-bf98d8e4f138",
   "metadata": {},
   "outputs": [],
   "source": [
    "# 3)  we can convert one data type to other in python by assigning its value to other"
   ]
  },
  {
   "cell_type": "code",
   "execution_count": 12,
   "id": "03e92f3f-7dba-436d-b6b8-734867839bc2",
   "metadata": {},
   "outputs": [
    {
     "name": "stdout",
     "output_type": "stream",
     "text": [
      "10\n"
     ]
    },
    {
     "data": {
      "text/plain": [
       "float"
      ]
     },
     "execution_count": 12,
     "metadata": {},
     "output_type": "execute_result"
    }
   ],
   "source": [
    "# 3)\n",
    "a=int(10)\n",
    "b=float(a)\n",
    "print(a)\n",
    "type(b)\n",
    "\n"
   ]
  },
  {
   "cell_type": "code",
   "execution_count": null,
   "id": "20c93b52-16ae-4294-9da5-c384a884f41b",
   "metadata": {},
   "outputs": [],
   "source": [
    "\n",
    "#   4)we can use python IDLE console to write the python script and rum the code there.\n"
   ]
  },
  {
   "cell_type": "code",
   "execution_count": null,
   "id": "33a98539-e8b5-47f3-a18e-be4652103e9a",
   "metadata": {},
   "outputs": [],
   "source": []
  },
  {
   "cell_type": "code",
   "execution_count": null,
   "id": "8b9688da-ee94-44fa-af0d-717f59fbc9da",
   "metadata": {},
   "outputs": [],
   "source": []
  },
  {
   "cell_type": "code",
   "execution_count": 16,
   "id": "61a2c352-929b-4245-b77b-3c8474bf7a1e",
   "metadata": {},
   "outputs": [
    {
     "data": {
      "text/plain": [
       "[2, 3]"
      ]
     },
     "execution_count": 16,
     "metadata": {},
     "output_type": "execute_result"
    }
   ],
   "source": [
    "# 5)\n",
    "my_list=[1,2,3,4,5]\n",
    "my_list[1:3]"
   ]
  },
  {
   "cell_type": "code",
   "execution_count": 17,
   "id": "90fe7ea5-2907-4534-81a9-1464ff5229ba",
   "metadata": {},
   "outputs": [
    {
     "data": {
      "text/plain": [
       "complex"
      ]
     },
     "execution_count": 17,
     "metadata": {},
     "output_type": "execute_result"
    }
   ],
   "source": [
    "# 6)\n",
    "#compex numbers in mathematics are which are of type which includes imaginary number.\n",
    "#In python imaginary numbers are denoted by j.\n",
    "\n",
    "a= 5+6j\n",
    "type(a)"
   ]
  },
  {
   "cell_type": "code",
   "execution_count": 20,
   "id": "dc75d9db-bc11-4902-b642-29fdfdc46a43",
   "metadata": {},
   "outputs": [
    {
     "name": "stdin",
     "output_type": "stream",
     "text": [
      "enter age: 25\n"
     ]
    }
   ],
   "source": [
    " age = int(input(\"enter age:\"))"
   ]
  },
  {
   "cell_type": "code",
   "execution_count": 21,
   "id": "4913debd-46bd-4a5c-9f54-8695729253c0",
   "metadata": {},
   "outputs": [
    {
     "data": {
      "text/plain": [
       "float"
      ]
     },
     "execution_count": 21,
     "metadata": {},
     "output_type": "execute_result"
    }
   ],
   "source": [
    "price = 9.99\n",
    "type(price)\n"
   ]
  },
  {
   "cell_type": "code",
   "execution_count": 22,
   "id": "6a819d99-e44b-47d8-a818-ff7cd85c1277",
   "metadata": {},
   "outputs": [
    {
     "name": "stdout",
     "output_type": "stream",
     "text": [
      "Venh Arya\n"
     ]
    }
   ],
   "source": [
    "name= (\"Venh Arya\")\n",
    "#i can print its value by putting name in print\n",
    "print(name)"
   ]
  },
  {
   "cell_type": "code",
   "execution_count": 25,
   "id": "d1c4ad15-fdac-4503-8502-f2b9ce17aaab",
   "metadata": {},
   "outputs": [
    {
     "data": {
      "text/plain": [
       "'world'"
      ]
     },
     "execution_count": 25,
     "metadata": {},
     "output_type": "execute_result"
    }
   ],
   "source": [
    "str= \"hello world!\"\n",
    "str[6:11]"
   ]
  },
  {
   "cell_type": "code",
   "execution_count": 26,
   "id": "c02600f1-997a-4350-9f65-2256daa3c26c",
   "metadata": {},
   "outputs": [],
   "source": [
    "is_student = True\n",
    "\n",
    "#or\n",
    "\n",
    "is_student = False"
   ]
  },
  {
   "cell_type": "code",
   "execution_count": null,
   "id": "e230a030-9da0-4d1f-b2d2-b01637d882b7",
   "metadata": {},
   "outputs": [],
   "source": []
  },
  {
   "cell_type": "code",
   "execution_count": null,
   "id": "a12d3550-9547-4629-a6a3-5f3d352091bd",
   "metadata": {},
   "outputs": [],
   "source": []
  }
 ],
 "metadata": {
  "kernelspec": {
   "display_name": "Python 3 (ipykernel)",
   "language": "python",
   "name": "python3"
  },
  "language_info": {
   "codemirror_mode": {
    "name": "ipython",
    "version": 3
   },
   "file_extension": ".py",
   "mimetype": "text/x-python",
   "name": "python",
   "nbconvert_exporter": "python",
   "pygments_lexer": "ipython3",
   "version": "3.10.8"
  }
 },
 "nbformat": 4,
 "nbformat_minor": 5
}
